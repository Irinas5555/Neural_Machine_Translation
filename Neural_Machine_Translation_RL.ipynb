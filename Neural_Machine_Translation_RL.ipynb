{
  "cells": [
    {
      "cell_type": "markdown",
      "metadata": {
        "id": "6Dv2IMLG4K_4"
      },
      "source": [
        "## Lab assignment 02 + policy gradient"
      ]
    },
    {
      "cell_type": "markdown",
      "metadata": {
        "id": "7oKIYmlc4K_6"
      },
      "source": [
        "В данной работе осуществим обучение нейронной сети для машинного перевода и потом дообучим ее с использованием policy gradient"
      ]
    },
    {
      "cell_type": "code",
      "execution_count": null,
      "metadata": {
        "colab": {
          "base_uri": "https://localhost:8080/"
        },
        "id": "SAq79VY29egG",
        "outputId": "8d88ac86-d5a3-4778-a363-62255c1231c0"
      },
      "outputs": [
        {
          "output_type": "stream",
          "name": "stdout",
          "text": [
            "Drive already mounted at /content/drive; to attempt to forcibly remount, call drive.mount(\"/content/drive\", force_remount=True).\n"
          ]
        }
      ],
      "source": [
        "from google.colab import drive\n",
        "drive.mount('/content/drive')"
      ]
    },
    {
      "cell_type": "code",
      "execution_count": null,
      "metadata": {
        "id": "nLKD1aUV4K_7",
        "colab": {
          "base_uri": "https://localhost:8080/"
        },
        "outputId": "4c315fde-6a1e-43d2-83ef-1d33119360db"
      },
      "outputs": [
        {
          "output_type": "stream",
          "name": "stdout",
          "text": [
            "Looking in indexes: https://pypi.org/simple, https://us-python.pkg.dev/colab-wheels/public/simple/\n",
            "Requirement already satisfied: subword-nmt in /usr/local/lib/python3.7/dist-packages (0.3.8)\n",
            "Requirement already satisfied: tqdm in /usr/local/lib/python3.7/dist-packages (from subword-nmt) (4.64.0)\n",
            "Requirement already satisfied: mock in /usr/local/lib/python3.7/dist-packages (from subword-nmt) (4.0.3)\n",
            "Looking in indexes: https://pypi.org/simple, https://us-python.pkg.dev/colab-wheels/public/simple/\n",
            "Requirement already satisfied: nltk in /usr/local/lib/python3.7/dist-packages (3.7)\n",
            "Requirement already satisfied: tqdm in /usr/local/lib/python3.7/dist-packages (from nltk) (4.64.0)\n",
            "Requirement already satisfied: regex>=2021.8.3 in /usr/local/lib/python3.7/dist-packages (from nltk) (2022.6.2)\n",
            "Requirement already satisfied: click in /usr/local/lib/python3.7/dist-packages (from nltk) (7.1.2)\n",
            "Requirement already satisfied: joblib in /usr/local/lib/python3.7/dist-packages (from nltk) (1.1.0)\n",
            "Looking in indexes: https://pypi.org/simple, https://us-python.pkg.dev/colab-wheels/public/simple/\n",
            "Requirement already satisfied: torchtext==0.11 in /usr/local/lib/python3.7/dist-packages (0.11.0)\n",
            "Requirement already satisfied: requests in /usr/local/lib/python3.7/dist-packages (from torchtext==0.11) (2.23.0)\n",
            "Requirement already satisfied: tqdm in /usr/local/lib/python3.7/dist-packages (from torchtext==0.11) (4.64.0)\n",
            "Requirement already satisfied: torch==1.10.0 in /usr/local/lib/python3.7/dist-packages (from torchtext==0.11) (1.10.0)\n",
            "Requirement already satisfied: numpy in /usr/local/lib/python3.7/dist-packages (from torchtext==0.11) (1.21.6)\n",
            "Requirement already satisfied: typing-extensions in /usr/local/lib/python3.7/dist-packages (from torch==1.10.0->torchtext==0.11) (4.1.1)\n",
            "Requirement already satisfied: certifi>=2017.4.17 in /usr/local/lib/python3.7/dist-packages (from requests->torchtext==0.11) (2022.6.15)\n",
            "Requirement already satisfied: urllib3!=1.25.0,!=1.25.1,<1.26,>=1.21.1 in /usr/local/lib/python3.7/dist-packages (from requests->torchtext==0.11) (1.24.3)\n",
            "Requirement already satisfied: idna<3,>=2.5 in /usr/local/lib/python3.7/dist-packages (from requests->torchtext==0.11) (2.10)\n",
            "Requirement already satisfied: chardet<4,>=3.0.2 in /usr/local/lib/python3.7/dist-packages (from requests->torchtext==0.11) (3.0.4)\n"
          ]
        }
      ],
      "source": [
        "# You might need to install the libraries below. Do it in the desired environment\n",
        "# if you are working locally.\n",
        "\n",
        "! pip  install subword-nmt\n",
        "! pip install nltk\n",
        "! pip install torchtext==0.11;"
      ]
    },
    {
      "cell_type": "code",
      "execution_count": null,
      "metadata": {
        "id": "tgtL_9Na4K_8",
        "colab": {
          "base_uri": "https://localhost:8080/"
        },
        "outputId": "387ff030-a11e-422f-f30c-7d41165ee6fe"
      },
      "outputs": [
        {
          "output_type": "stream",
          "name": "stdout",
          "text": [
            "Dataset not found locally. Downloading from github.\n",
            "File ‘data.txt’ already there; not retrieving.\n",
            "\n"
          ]
        }
      ],
      "source": [
        "# Thanks to YSDA NLP course team for the data\n",
        "# (who thanks tilda and deephack teams for the data in their turn)\n",
        "\n",
        "import os\n",
        "path_do_data = 'C:\\\\Users\\\\user\\\\Desktop\\\\MADE\\\\nlp\\\\Homeworks\\\\lab02_neural_machine_translation\\data\\\\data.txt'\n",
        "if not os.path.exists(path_do_data):\n",
        "    print(\"Dataset not found locally. Downloading from github.\")\n",
        "    !wget https://raw.githubusercontent.com/neychev/made_nlp_course/master/datasets/Machine_translation_EN_RU/data.txt -nc\n",
        "    path_do_data = './data.txt'"
      ]
    },
    {
      "cell_type": "code",
      "execution_count": null,
      "metadata": {
        "id": "uvVVRKz-4K_8"
      },
      "outputs": [],
      "source": [
        "import numpy as np\n",
        "import torch\n",
        "import torch.nn as nn\n",
        "import torch.optim as optim\n",
        "import torch.nn.functional as F\n",
        "\n",
        "import torchtext\n",
        "from torchtext.legacy.datasets import TranslationDataset, Multi30k\n",
        "from torchtext.legacy.data import Field, BucketIterator\n",
        "\n",
        "import spacy\n",
        "\n",
        "import random\n",
        "import math\n",
        "import time\n",
        "import tqdm\n",
        "\n",
        "import matplotlib\n",
        "matplotlib.rcParams.update({'figure.figsize': (16, 12), 'font.size': 14})\n",
        "import matplotlib.pyplot as plt\n",
        "%matplotlib inline\n",
        "from IPython.display import clear_output\n",
        "\n",
        "from nltk.tokenize import WordPunctTokenizer\n",
        "from nltk.translate.bleu_score import corpus_bleu, sentence_bleu\n",
        "from torchtext.data.metrics import bleu_score\n",
        "from subword_nmt.learn_bpe import learn_bpe\n",
        "from subword_nmt.apply_bpe import BPE\n",
        "\n",
        "from torch.optim.lr_scheduler import ExponentialLR, ReduceLROnPlateau\n",
        "\n",
        "import warnings\n",
        "warnings.filterwarnings(\"ignore\")\n",
        "\n",
        "from train_models import train, evaluate, epoch_time, count_parameters\n",
        "import utils\n",
        "import imp\n",
        "imp.reload(utils)\n",
        "remove_tech_tokens = utils.remove_tech_tokens\n",
        "get_text = utils.get_text\n",
        "flatten = utils.flatten\n",
        "translate_sentence_transformer = utils.translate_sentence_transformer\n",
        "calculate_bleu_transformer = utils.calculate_bleu_transformer"
      ]
    },
    {
      "cell_type": "code",
      "execution_count": null,
      "metadata": {
        "id": "Wlb4d2YXP7zB"
      },
      "outputs": [],
      "source": [
        "SEED = 42\n",
        "\n",
        "random.seed(SEED)\n",
        "np.random.seed(SEED)\n",
        "torch.manual_seed(SEED)\n",
        "torch.cuda.manual_seed(SEED)\n",
        "torch.backends.cudnn.deterministic = True"
      ]
    },
    {
      "cell_type": "markdown",
      "metadata": {
        "id": "e_aCDSJoK1mY"
      },
      "source": [
        "## Предобучение модели с помощью обучения с учиителем"
      ]
    },
    {
      "cell_type": "code",
      "execution_count": null,
      "metadata": {
        "id": "U_RsZks0K7b4"
      },
      "outputs": [],
      "source": [
        "import my_network_TRANSFORMER\n",
        "Encoder = my_network_TRANSFORMER.Encoder\n",
        "Decoder = my_network_TRANSFORMER.Decoder\n",
        "Seq2Seq = my_network_TRANSFORMER.Seq2Seq"
      ]
    },
    {
      "cell_type": "code",
      "execution_count": null,
      "metadata": {
        "id": "KC0kewyY1XzT"
      },
      "outputs": [],
      "source": [
        "tokenizer_W = WordPunctTokenizer()\n",
        "def tokenize(x, tokenizer=tokenizer_W):\n",
        "    return tokenizer.tokenize(x.lower())"
      ]
    },
    {
      "cell_type": "code",
      "execution_count": null,
      "metadata": {
        "id": "HU9CJWshLUF2"
      },
      "outputs": [],
      "source": [
        "SRC = Field(tokenize=tokenize,\n",
        "            init_token = '<sos>', \n",
        "            eos_token = '<eos>', \n",
        "            lower = True,\n",
        "            batch_first = True)\n",
        "\n",
        "TRG = Field(tokenize=tokenize,\n",
        "            init_token = '<sos>', \n",
        "            eos_token = '<eos>', \n",
        "            lower = True,\n",
        "            batch_first = True)\n",
        "\n",
        "dataset = torchtext.legacy.data.TabularDataset(\n",
        "    path=path_do_data,\n",
        "    format='tsv',\n",
        "    fields=[('trg', TRG), ('src', SRC)]\n",
        ")\n",
        "\n",
        "train_data, valid_data, test_data = dataset.split(split_ratio=[0.8, 0.15, 0.05])\n",
        "\n",
        "SRC.build_vocab(train_data, min_freq = 2)\n",
        "TRG.build_vocab(train_data, min_freq = 2)\n",
        "\n",
        "device = torch.device('cuda' if torch.cuda.is_available() else 'cpu')\n",
        "\n",
        "def _len_sort_key(x):\n",
        "    return len(x.src)\n",
        "\n",
        "BATCH_SIZE = 128\n",
        "\n",
        "train_iterator, valid_iterator, test_iterator = BucketIterator.splits(\n",
        "    (train_data, valid_data, test_data), \n",
        "    batch_size = BATCH_SIZE, \n",
        "    device = device,\n",
        "    sort_key=_len_sort_key\n",
        ")"
      ]
    },
    {
      "cell_type": "code",
      "execution_count": null,
      "metadata": {
        "id": "q4bUd-SOLOTw"
      },
      "outputs": [],
      "source": [
        "INPUT_DIM = len(SRC.vocab) \n",
        "OUTPUT_DIM = len(TRG.vocab) \n",
        "HID_DIM = 256 \n",
        "ENC_LAYERS = 2 \n",
        "DEC_LAYERS = 2 \n",
        "ENC_HEADS = 2 \n",
        "DEC_HEADS = 2 \n",
        "ENC_PF_DIM = 512 \n",
        "DEC_PF_DIM = 512 \n",
        "ENC_DROPOUT = 0.1 \n",
        "DEC_DROPOUT = 0.1\n",
        "\n",
        "enc = Encoder(INPUT_DIM, \n",
        "              HID_DIM, \n",
        "              ENC_LAYERS, \n",
        "              ENC_HEADS, \n",
        "              ENC_PF_DIM, \n",
        "              ENC_DROPOUT, \n",
        "              device)\n",
        "\n",
        "dec = Decoder(OUTPUT_DIM, \n",
        "              HID_DIM, \n",
        "              DEC_LAYERS, \n",
        "              DEC_HEADS, \n",
        "              DEC_PF_DIM, \n",
        "              DEC_DROPOUT, \n",
        "              device)\n",
        "\n",
        "SRC_PAD_IDX = SRC.vocab.stoi[SRC.pad_token]\n",
        "TRG_PAD_IDX = TRG.vocab.stoi[TRG.pad_token]\n",
        "\n",
        "model = Seq2Seq(enc, dec, SRC_PAD_IDX, TRG_PAD_IDX, device).to(device)"
      ]
    },
    {
      "cell_type": "code",
      "execution_count": null,
      "metadata": {
        "colab": {
          "base_uri": "https://localhost:8080/"
        },
        "id": "On2DCAlGL_lw",
        "outputId": "c5e062be-bdc7-4558-a815-3b592b98bdf6"
      },
      "outputs": [
        {
          "output_type": "stream",
          "name": "stdout",
          "text": [
            "The model has 11,520,186 trainable parameters\n"
          ]
        }
      ],
      "source": [
        "print(f'The model has {count_parameters(model):,} trainable parameters')"
      ]
    },
    {
      "cell_type": "code",
      "execution_count": null,
      "metadata": {
        "colab": {
          "base_uri": "https://localhost:8080/"
        },
        "id": "33waqZ5KMiC3",
        "outputId": "0d1ab244-38f2-4c50-c340-2f0eb134bcc5"
      },
      "outputs": [
        {
          "output_type": "execute_result",
          "data": {
            "text/plain": [
              "Seq2Seq(\n",
              "  (encoder): Encoder(\n",
              "    (tok_embedding): Embedding(14115, 256)\n",
              "    (pos_embedding): Embedding(100, 256)\n",
              "    (layers): ModuleList(\n",
              "      (0): EncoderLayer(\n",
              "        (self_attn_layer_norm): LayerNorm((256,), eps=1e-05, elementwise_affine=True)\n",
              "        (ff_layer_norm): LayerNorm((256,), eps=1e-05, elementwise_affine=True)\n",
              "        (self_attention): MultiHeadAttentionLayer(\n",
              "          (fc_q): Linear(in_features=256, out_features=256, bias=True)\n",
              "          (fc_k): Linear(in_features=256, out_features=256, bias=True)\n",
              "          (fc_v): Linear(in_features=256, out_features=256, bias=True)\n",
              "          (fc_o): Linear(in_features=256, out_features=256, bias=True)\n",
              "          (dropout): Dropout(p=0.1, inplace=False)\n",
              "        )\n",
              "        (positionwise_feedforward): PositionwiseFeedforwardLayer(\n",
              "          (fc_1): Linear(in_features=256, out_features=512, bias=True)\n",
              "          (fc_2): Linear(in_features=512, out_features=256, bias=True)\n",
              "          (dropout): Dropout(p=0.1, inplace=False)\n",
              "        )\n",
              "        (dropout): Dropout(p=0.1, inplace=False)\n",
              "      )\n",
              "      (1): EncoderLayer(\n",
              "        (self_attn_layer_norm): LayerNorm((256,), eps=1e-05, elementwise_affine=True)\n",
              "        (ff_layer_norm): LayerNorm((256,), eps=1e-05, elementwise_affine=True)\n",
              "        (self_attention): MultiHeadAttentionLayer(\n",
              "          (fc_q): Linear(in_features=256, out_features=256, bias=True)\n",
              "          (fc_k): Linear(in_features=256, out_features=256, bias=True)\n",
              "          (fc_v): Linear(in_features=256, out_features=256, bias=True)\n",
              "          (fc_o): Linear(in_features=256, out_features=256, bias=True)\n",
              "          (dropout): Dropout(p=0.1, inplace=False)\n",
              "        )\n",
              "        (positionwise_feedforward): PositionwiseFeedforwardLayer(\n",
              "          (fc_1): Linear(in_features=256, out_features=512, bias=True)\n",
              "          (fc_2): Linear(in_features=512, out_features=256, bias=True)\n",
              "          (dropout): Dropout(p=0.1, inplace=False)\n",
              "        )\n",
              "        (dropout): Dropout(p=0.1, inplace=False)\n",
              "      )\n",
              "    )\n",
              "    (dropout): Dropout(p=0.1, inplace=False)\n",
              "  )\n",
              "  (decoder): Decoder(\n",
              "    (tok_embedding): Embedding(10170, 256)\n",
              "    (pos_embedding): Embedding(110, 256)\n",
              "    (layers): ModuleList(\n",
              "      (0): DecoderLayer(\n",
              "        (self_attn_layer_norm): LayerNorm((256,), eps=1e-05, elementwise_affine=True)\n",
              "        (enc_attn_layer_norm): LayerNorm((256,), eps=1e-05, elementwise_affine=True)\n",
              "        (ff_layer_norm): LayerNorm((256,), eps=1e-05, elementwise_affine=True)\n",
              "        (self_attention): MultiHeadAttentionLayer(\n",
              "          (fc_q): Linear(in_features=256, out_features=256, bias=True)\n",
              "          (fc_k): Linear(in_features=256, out_features=256, bias=True)\n",
              "          (fc_v): Linear(in_features=256, out_features=256, bias=True)\n",
              "          (fc_o): Linear(in_features=256, out_features=256, bias=True)\n",
              "          (dropout): Dropout(p=0.1, inplace=False)\n",
              "        )\n",
              "        (encoder_attention): MultiHeadAttentionLayer(\n",
              "          (fc_q): Linear(in_features=256, out_features=256, bias=True)\n",
              "          (fc_k): Linear(in_features=256, out_features=256, bias=True)\n",
              "          (fc_v): Linear(in_features=256, out_features=256, bias=True)\n",
              "          (fc_o): Linear(in_features=256, out_features=256, bias=True)\n",
              "          (dropout): Dropout(p=0.1, inplace=False)\n",
              "        )\n",
              "        (positionwise_feedforward): PositionwiseFeedforwardLayer(\n",
              "          (fc_1): Linear(in_features=256, out_features=512, bias=True)\n",
              "          (fc_2): Linear(in_features=512, out_features=256, bias=True)\n",
              "          (dropout): Dropout(p=0.1, inplace=False)\n",
              "        )\n",
              "        (dropout): Dropout(p=0.1, inplace=False)\n",
              "      )\n",
              "      (1): DecoderLayer(\n",
              "        (self_attn_layer_norm): LayerNorm((256,), eps=1e-05, elementwise_affine=True)\n",
              "        (enc_attn_layer_norm): LayerNorm((256,), eps=1e-05, elementwise_affine=True)\n",
              "        (ff_layer_norm): LayerNorm((256,), eps=1e-05, elementwise_affine=True)\n",
              "        (self_attention): MultiHeadAttentionLayer(\n",
              "          (fc_q): Linear(in_features=256, out_features=256, bias=True)\n",
              "          (fc_k): Linear(in_features=256, out_features=256, bias=True)\n",
              "          (fc_v): Linear(in_features=256, out_features=256, bias=True)\n",
              "          (fc_o): Linear(in_features=256, out_features=256, bias=True)\n",
              "          (dropout): Dropout(p=0.1, inplace=False)\n",
              "        )\n",
              "        (encoder_attention): MultiHeadAttentionLayer(\n",
              "          (fc_q): Linear(in_features=256, out_features=256, bias=True)\n",
              "          (fc_k): Linear(in_features=256, out_features=256, bias=True)\n",
              "          (fc_v): Linear(in_features=256, out_features=256, bias=True)\n",
              "          (fc_o): Linear(in_features=256, out_features=256, bias=True)\n",
              "          (dropout): Dropout(p=0.1, inplace=False)\n",
              "        )\n",
              "        (positionwise_feedforward): PositionwiseFeedforwardLayer(\n",
              "          (fc_1): Linear(in_features=256, out_features=512, bias=True)\n",
              "          (fc_2): Linear(in_features=512, out_features=256, bias=True)\n",
              "          (dropout): Dropout(p=0.1, inplace=False)\n",
              "        )\n",
              "        (dropout): Dropout(p=0.1, inplace=False)\n",
              "      )\n",
              "    )\n",
              "    (fc_out): Linear(in_features=256, out_features=10170, bias=True)\n",
              "    (dropout): Dropout(p=0.1, inplace=False)\n",
              "  )\n",
              ")"
            ]
          },
          "metadata": {},
          "execution_count": 11
        }
      ],
      "source": [
        "def initialize_weights(m):\n",
        "    if hasattr(m, 'weight') and m.weight.dim() > 1:\n",
        "        nn.init.xavier_uniform_(m.weight.data)\n",
        "model.apply(initialize_weights)"
      ]
    },
    {
      "cell_type": "code",
      "execution_count": null,
      "metadata": {
        "id": "lHoYM3jlMG7_"
      },
      "outputs": [],
      "source": [
        "from torch.optim.lr_scheduler import ExponentialLR, ReduceLROnPlateau\n",
        "PAD_IDX = TRG.vocab.stoi['<pad>']\n",
        "optimizer = optim.Adam(model.parameters(), lr=0.0005)\n",
        "criterion = nn.CrossEntropyLoss(ignore_index = PAD_IDX)\n",
        "lr_scheduler = ReduceLROnPlateau(optimizer, mode='min', factor=0.3,\n",
        "        patience=2,\n",
        "        verbose=True, threshold=0.01,\n",
        "        threshold_mode='abs', cooldown=0,\n",
        "        min_lr=1e-6, eps=1e-08)"
      ]
    },
    {
      "cell_type": "code",
      "execution_count": null,
      "metadata": {
        "colab": {
          "base_uri": "https://localhost:8080/",
          "height": 577
        },
        "id": "-reWyePqMG-3",
        "outputId": "58d2e7cd-d26c-43cb-a842-e02b8302b6d4"
      },
      "outputs": [
        {
          "output_type": "display_data",
          "data": {
            "text/plain": [
              "<Figure size 864x576 with 2 Axes>"
            ],
            "image/png": "[encoded data removed]"
          },
          "metadata": {
            "needs_background": "light"
          }
        },
        {
          "output_type": "stream",
          "name": "stdout",
          "text": [
            "Epoch: 15 | Time: 0m 40s\n",
            "\tTrain Loss: 0.646 | Train PPL:   1.907\n",
            "\t Val. Loss: 1.867 |  Val. PPL:   6.467\n"
          ]
        }
      ],
      "source": [
        "train_history = []\n",
        "valid_history = []\n",
        "\n",
        "N_EPOCHS = 15\n",
        "CLIP = 1\n",
        "\n",
        "best_valid_loss = float('inf')\n",
        "\n",
        "for epoch in range(N_EPOCHS):\n",
        "    \n",
        "    start_time = time.time()\n",
        "    \n",
        "    train_loss = train(model, train_iterator, optimizer, criterion, CLIP, train_history, valid_history)\n",
        "    valid_loss = evaluate(model, valid_iterator, criterion)\n",
        "    \n",
        "    end_time = time.time()\n",
        "    \n",
        "    epoch_mins, epoch_secs = epoch_time(start_time, end_time)\n",
        "    \n",
        "    if valid_loss < best_valid_loss:\n",
        "        best_valid_loss = valid_loss\n",
        "        torch.save(model.state_dict(), '/content/drive/MyDrive/NLP_IRA/transformer_model.pt')\n",
        "    \n",
        "    train_history.append(train_loss)\n",
        "    valid_history.append(valid_loss)\n",
        "\n",
        "    lr_scheduler.step(train_history[-1])\n",
        "\n",
        "    print(f'Epoch: {epoch+1:02} | Time: {epoch_mins}m {epoch_secs}s')\n",
        "    print(f'\\tTrain Loss: {train_loss:.3f} | Train PPL: {math.exp(train_loss):7.3f}')\n",
        "    print(f'\\t Val. Loss: {valid_loss:.3f} |  Val. PPL: {math.exp(valid_loss):7.3f}')\n"
      ]
    },
    {
      "cell_type": "code",
      "execution_count": null,
      "metadata": {
        "id": "TGnAQZtueIyw",
        "colab": {
          "base_uri": "https://localhost:8080/"
        },
        "outputId": "8b0c576d-e055-4082-cdbc-225b7c8a9fc4"
      },
      "outputs": [
        {
          "output_type": "stream",
          "name": "stdout",
          "text": [
            "| Test Loss: 1.816 | Test PPL:   6.150 |\n"
          ]
        }
      ],
      "source": [
        "test_loss = evaluate(model, test_iterator, criterion)\n",
        "\n",
        "print(f'| Test Loss: {test_loss:.3f} | Test PPL: {math.exp(test_loss):7.3f} |')"
      ]
    },
    {
      "cell_type": "code",
      "execution_count": null,
      "metadata": {
        "colab": {
          "base_uri": "https://localhost:8080/"
        },
        "id": "2lCcM2likxDO",
        "outputId": "aecda2c4-5bdf-48dc-c1b8-2e7e831e9766"
      },
      "outputs": [
        {
          "output_type": "execute_result",
          "data": {
            "text/plain": [
              "<All keys matched successfully>"
            ]
          },
          "metadata": {},
          "execution_count": 15
        }
      ],
      "source": [
        "model.load_state_dict(torch.load('/content/drive/MyDrive/NLP_IRA/transformer_model.pt'))"
      ]
    },
    {
      "cell_type": "code",
      "execution_count": null,
      "metadata": {
        "colab": {
          "base_uri": "https://localhost:8080/"
        },
        "id": "i6rXNRegdsXe",
        "outputId": "c6f29e20-48fe-4dc1-d5bb-6b27357e0822"
      },
      "outputs": [
        {
          "output_type": "stream",
          "name": "stdout",
          "text": [
            "BLEU score = 28.52\n"
          ]
        }
      ],
      "source": [
        "bleu_score_pretrained = calculate_bleu_transformer(test_data, SRC, TRG, model, device, greedy=True)\n",
        "\n",
        "print(f'BLEU score = {bleu_score_pretrained *100:.2f}')"
      ]
    },
    {
      "cell_type": "markdown",
      "metadata": {
        "id": "l7pGN2zmoSaU"
      },
      "source": [
        "Примеры перевода:"
      ]
    },
    {
      "cell_type": "code",
      "execution_count": null,
      "metadata": {
        "colab": {
          "base_uri": "https://localhost:8080/"
        },
        "id": "MfD0pLRdfxKY",
        "outputId": "fee17e34-159b-40c4-8d2e-4242e2456cf2"
      },
      "outputs": [
        {
          "output_type": "stream",
          "name": "stdout",
          "text": [
            "Text: в 1 , 9 км находится свято - троицкий кафедральный собор .\n",
            "Original translation: the apartment is 1 . 9 km from trinity cathedral .\n",
            "Generated translation: the apartment is 1 . 9 km from trinity cathedral .\n",
            "\n",
            "Text: на территории отеля обустроена бесплатная частная парковка и работает прокат велосипедов .\n",
            "Original translation: free private parking and bike rental are available on site .\n",
            "Generated translation: free private parking is available on site and bike hire is available at the hotel .\n",
            "\n",
            "Text: дом для отпуска degnevangen blåvand iv с крытым бассейном площадью 24 квадратных метра находится в поселке блованн , в 200 метрах от магазина и ресторана .\n",
            "Original translation: offering a 24 square meters indoor swimming pool , holiday home degnevangen blåvand iv is located in blåvand , 200 m from the shop and restaurant .\n",
            "Generated translation: holiday home <unk> blåvand iv is located in blåvand , 200 metres from the shop , and there is a restaurant , 200 metres from the shop .\n",
            "\n",
            "Text: гости могут приготовить себе еду на кухне с плитой , микроволновой печью и холодильником .\n",
            "Original translation: guests can prepare their meals in the kitchen with a stove , microwave and fridge .\n",
            "Generated translation: guests can prepare their own meals in the kitchen , which includes a stove , microwave and refrigerator .\n",
            "\n",
            "Text: гости могут отдохнуть на террасе и полюбоваться живописными пейзажами , а также заняться верховой ездой , отправиться на пешую прогулку или на рыбалку .\n",
            "Original translation: guests can relax on the terrace and enjoy the scenic landscapes . activities range from horse riding , hiking and fishing .\n",
            "Generated translation: guests can relax on the terrace and enjoy scenic scenic scenic landscape , as well as horse riding , hiking and fishing .\n",
            "\n",
            "Text: гости также могут посещать круговую смотровую площадку lookout в ресторане la vista .\n",
            "Original translation: guests also get access to the 360o panoramic lookout in restaurant \" la vista \".\n",
            "Generated translation: guests also have access to a restaurant at la vista .\n",
            "\n",
            "Text: пешая прогулка до старинного фермерского рынка лос - анджелеса и торгового центра the grove занимает несколько минут .\n",
            "Original translation: the property is within walking distance to the historic la farmer ' s market and the grove shopping center .\n",
            "Generated translation: los angeles hotel is a short walk from the property , and the shopping centre .\n",
            "\n",
            "Text: предоставляется трансфер от / до аэропорта .\n",
            "Original translation: an airport shuttle is available .\n",
            "Generated translation: airport shuttle is available .\n",
            "\n",
            "Text: расстояние до флоренции составляет 15 км . поездка до ареццо занимает примерно 1 час .\n",
            "Original translation: florence is 15 km from the property , while arezzo can be reached in approximately a 1 - hour drive .\n",
            "Generated translation: florence is 15 km away .\n",
            "\n",
            "Text: на прилегающей территории обустроена бесплатная частная парковка .\n",
            "Original translation: free private parking is available on site .\n",
            "Generated translation: free private parking is available on site .\n",
            "\n",
            "CPU times: user 422 ms, sys: 6.07 ms, total: 428 ms\n",
            "Wall time: 420 ms\n"
          ]
        }
      ],
      "source": [
        "%%time\n",
        "for example_idx in range(10):\n",
        "\n",
        "  src = vars(train_data.examples[example_idx])['src']\n",
        "  trg = vars(train_data.examples[example_idx])['trg']\n",
        "  pred_trg, _ = translate_sentence_transformer(src, SRC, TRG, model, device, greedy=True)\n",
        "\n",
        "  print('Text: {}'.format(' '.join(src)))\n",
        "  print('Original translation: {}'.format(' '.join(trg)))\n",
        "  print('Generated translation: {}'.format(' '.join(pred_trg[:-1])))\n",
        "  print()"
      ]
    },
    {
      "cell_type": "markdown",
      "metadata": {
        "id": "uQgyNVItpA38"
      },
      "source": [
        "Удачные примеры переводов:\n",
        "\n",
        " - в распоряжении гостей общий лаундж - there is a shared lounge at the property\n",
        " - среди дополнительных удобств — письменный стол и постельное белье - extras include a desk and bed linen\n"
      ]
    },
    {
      "cell_type": "markdown",
      "metadata": {
        "id": "q0J3p3huw3Uk"
      },
      "source": [
        "## **Self-critical policy gradient**"
      ]
    },
    {
      "cell_type": "markdown",
      "source": [
        "Теперь попробуем дообучить полученную модель с помощью Self-critical policy gradient."
      ],
      "metadata": {
        "id": "wbBoWJocdQfV"
      }
    },
    {
      "cell_type": "code",
      "source": [
        "def translate_batch(model, src, trg, device=device, greedy=False):\n",
        "    batch_size = trg.shape[1]\n",
        "    max_len = trg.shape[0]\n",
        "\n",
        "    logits, _ = model(src, trg)\n",
        "    if greedy:\n",
        "        res = logits.argmax(dim=-1)\n",
        "    else:\n",
        "        res = torch.zeros(max_len, batch_size, dtype=torch.int, device=device)\n",
        "        probs = F.softmax(logits, dim=-1)\n",
        "\n",
        "        for i in range(max_len):\n",
        "           res[i, :] = torch.multinomial(probs[i, :, :], 1)[:, 0]\n",
        "    return res, F.log_softmax(logits, dim=-1) # logits\n"
      ],
      "metadata": {
        "id": "YjCtiK_xpSnm"
      },
      "execution_count": null,
      "outputs": []
    },
    {
      "cell_type": "code",
      "source": [
        "def get_sentense_bleu(true_text, pred_text):\n",
        "    return sentence_bleu([true_text], pred_text)"
      ],
      "metadata": {
        "id": "apy9fs6kt9Zu"
      },
      "execution_count": null,
      "outputs": []
    },
    {
      "cell_type": "code",
      "source": [
        "def compute_reward(true_text, pred_text):\n",
        "    scores = list(map(get_sentense_bleu, true_text, pred_text))\n",
        "    return torch.tensor(scores)"
      ],
      "metadata": {
        "id": "l-562vutuyAH"
      },
      "execution_count": null,
      "outputs": []
    },
    {
      "cell_type": "code",
      "source": [
        "def to_one_hot(y, n_dims=None):\n",
        "    \"\"\" Take integer y (tensor or variable) with n dims and convert it to 1-hot representation with n+1 dims. \"\"\"\n",
        "    y_tensor = y.data\n",
        "    y_tensor = y_tensor.to(dtype=torch.long).view(-1, 1)\n",
        "    n_dims = n_dims if n_dims is not None else int(torch.max(y_tensor)) + 1\n",
        "    y_one_hot = torch.zeros(y_tensor.size()[0], n_dims, device=y.device).scatter_(1, y_tensor, 1)\n",
        "    y_one_hot = y_one_hot.view(*y.shape, -1)\n",
        "    return y_one_hot"
      ],
      "metadata": {
        "id": "CJG8pXXIvCFe"
      },
      "execution_count": null,
      "outputs": []
    },
    {
      "cell_type": "code",
      "source": [
        "def infer_mask(seq, eos_ix, batch_first=False, include_eos=True, dtype=torch.float):\n",
        "    \"\"\"\n",
        "    compute length given output indices and eos code\n",
        "    :param seq: tf matrix [time,batch] if batch_first else [batch,time]\n",
        "    :param eos_ix: integer index of end-of-sentence token\n",
        "    :param include_eos: if True, the time-step where eos first occurs is has mask = 1\n",
        "    :returns: lengths, int32 vector of shape [batch]\n",
        "    \"\"\"\n",
        "    assert seq.dim() == 2\n",
        "    is_eos = (seq == eos_ix).to(dtype=torch.float)\n",
        "    if include_eos:\n",
        "        if batch_first:\n",
        "            is_eos = torch.cat((is_eos[:,:1]*0, is_eos[:, :-1]), dim=1)\n",
        "        else:\n",
        "            is_eos = torch.cat((is_eos[:1,:]*0, is_eos[:-1, :]), dim=0)\n",
        "    count_eos = torch.cumsum(is_eos, dim=1 if batch_first else 0)\n",
        "    mask = count_eos == 0\n",
        "    return mask.to(dtype=dtype)"
      ],
      "metadata": {
        "id": "ksM6wUfdvI61"
      },
      "execution_count": null,
      "outputs": []
    },
    {
      "cell_type": "code",
      "source": [
        "def scst_objective_on_batch(model, src, trg, TRG, device=device):\n",
        "    \"\"\" Compute pseudo-loss for policy gradient given a batch of sources \"\"\"\n",
        "\n",
        "    input_sequence = [get_text(x, TRG.vocab) for x in trg.cpu().numpy()]\n",
        "\n",
        "    sample_translations, sample_logp = translate_batch(model, src, trg, device=device, greedy=False)\n",
        "    greedy_translations, greedy_logp = translate_batch(model, src, trg, device=device, greedy=True)\n",
        "\n",
        "    sample_text = [get_text(x, TRG.vocab) for x in sample_translations.detach().cpu().numpy()]#.T]\n",
        "    greedy_text = [get_text(x, TRG.vocab) for x in greedy_translations.detach().cpu().numpy()]#.T]\n",
        "\n",
        "\n",
        "    rewards = compute_reward(input_sequence, sample_text)\n",
        "    baseline = compute_reward(input_sequence, greedy_text)\n",
        "\n",
        "    advantage = (rewards - baseline).float().to(device)\n",
        "\n",
        "\n",
        "    logp_sample = torch.sum(to_one_hot(sample_translations, n_dims=len(TRG.vocab)) * sample_logp, dim=-1)\n",
        "\n",
        "    J = logp_sample * advantage[:, None]\n",
        "    \n",
        "    mask = infer_mask(sample_translations, TRG.vocab[TRG.eos_token])\n",
        "    loss = - torch.sum(J * mask) / torch.sum(mask)\n",
        "\n",
        "    entropy = - torch.sum(torch.exp(sample_logp) * sample_logp, dim=-1)\n",
        "    reg = - 0.001 * torch.sum(entropy * mask) / torch.sum(mask)\n",
        "\n",
        "    return loss + reg, torch.sum(entropy * mask) / torch.sum(mask)"
      ],
      "metadata": {
        "id": "VUcqad41ytd9"
      },
      "execution_count": null,
      "outputs": []
    },
    {
      "cell_type": "code",
      "execution_count": null,
      "metadata": {
        "id": "NSTGjeKHcCXD"
      },
      "outputs": [],
      "source": [
        "opt = torch.optim.Adam(model.parameters(), lr=1e-5)"
      ]
    },
    {
      "cell_type": "code",
      "execution_count": null,
      "metadata": {
        "colab": {
          "base_uri": "https://localhost:8080/"
        },
        "id": "GUbB1VjBcCeb",
        "outputId": "8dcbda70-86af-4332-af04-e7e093d0ecf3"
      },
      "outputs": [
        {
          "output_type": "stream",
          "name": "stderr",
          "text": [
            "313it [01:09,  4.47it/s]\n"
          ]
        },
        {
          "output_type": "stream",
          "name": "stdout",
          "text": [
            "epoch: 0\n",
            "epoch_loss: -0.8967555932724438\n",
            "val_blue: 0.2883634373842531\n"
          ]
        },
        {
          "output_type": "stream",
          "name": "stderr",
          "text": [
            "313it [01:09,  4.50it/s]\n"
          ]
        },
        {
          "output_type": "stream",
          "name": "stdout",
          "text": [
            "epoch: 1\n",
            "epoch_loss: -0.8921931734481178\n",
            "val_blue: 0.28764510223633066\n"
          ]
        },
        {
          "output_type": "stream",
          "name": "stderr",
          "text": [
            "313it [01:10,  4.47it/s]\n"
          ]
        },
        {
          "output_type": "stream",
          "name": "stdout",
          "text": [
            "epoch: 2\n",
            "epoch_loss: -0.8833317555748997\n",
            "val_blue: 0.28827781070653763\n"
          ]
        },
        {
          "output_type": "stream",
          "name": "stderr",
          "text": [
            "313it [01:10,  4.45it/s]\n"
          ]
        },
        {
          "output_type": "stream",
          "name": "stdout",
          "text": [
            "epoch: 3\n",
            "epoch_loss: -0.8762956823641881\n",
            "val_blue: 0.2878111416413796\n"
          ]
        },
        {
          "output_type": "stream",
          "name": "stderr",
          "text": [
            "313it [01:09,  4.49it/s]\n"
          ]
        },
        {
          "output_type": "stream",
          "name": "stdout",
          "text": [
            "epoch: 4\n",
            "epoch_loss: -0.8668573310009587\n",
            "val_blue: 0.2913731114763939\n"
          ]
        },
        {
          "output_type": "stream",
          "name": "stderr",
          "text": [
            "313it [01:09,  4.48it/s]\n"
          ]
        },
        {
          "output_type": "stream",
          "name": "stdout",
          "text": [
            "epoch: 5\n",
            "epoch_loss: -0.8597512839320368\n",
            "val_blue: 0.28853492529877955\n"
          ]
        },
        {
          "output_type": "stream",
          "name": "stderr",
          "text": [
            "313it [01:10,  4.41it/s]\n"
          ]
        },
        {
          "output_type": "stream",
          "name": "stdout",
          "text": [
            "epoch: 6\n",
            "epoch_loss: -0.8520137144517049\n",
            "val_blue: 0.29098385761323636\n"
          ]
        },
        {
          "output_type": "stream",
          "name": "stderr",
          "text": [
            "313it [01:09,  4.48it/s]\n"
          ]
        },
        {
          "output_type": "stream",
          "name": "stdout",
          "text": [
            "epoch: 7\n",
            "epoch_loss: -0.8473604680797734\n",
            "val_blue: 0.29269712225595595\n"
          ]
        },
        {
          "output_type": "stream",
          "name": "stderr",
          "text": [
            "313it [01:10,  4.46it/s]\n"
          ]
        },
        {
          "output_type": "stream",
          "name": "stdout",
          "text": [
            "epoch: 8\n",
            "epoch_loss: -0.8433633443731173\n",
            "val_blue: 0.29049425358903114\n"
          ]
        },
        {
          "output_type": "stream",
          "name": "stderr",
          "text": [
            "313it [01:10,  4.47it/s]\n"
          ]
        },
        {
          "output_type": "stream",
          "name": "stdout",
          "text": [
            "epoch: 9\n",
            "epoch_loss: -0.8371300926604591\n",
            "val_blue: 0.29069752133836324\n"
          ]
        },
        {
          "output_type": "stream",
          "name": "stderr",
          "text": [
            "313it [01:09,  4.50it/s]\n"
          ]
        },
        {
          "output_type": "stream",
          "name": "stdout",
          "text": [
            "epoch: 10\n",
            "epoch_loss: -0.8307802338794744\n",
            "val_blue: 0.29104948434722083\n"
          ]
        },
        {
          "output_type": "stream",
          "name": "stderr",
          "text": [
            "313it [01:10,  4.46it/s]\n"
          ]
        },
        {
          "output_type": "stream",
          "name": "stdout",
          "text": [
            "epoch: 11\n",
            "epoch_loss: -0.827286041876315\n",
            "val_blue: 0.2892760631384328\n"
          ]
        },
        {
          "output_type": "stream",
          "name": "stderr",
          "text": [
            "313it [01:09,  4.51it/s]\n"
          ]
        },
        {
          "output_type": "stream",
          "name": "stdout",
          "text": [
            "epoch: 12\n",
            "epoch_loss: -0.8222047033767554\n",
            "val_blue: 0.28884313717172416\n"
          ]
        },
        {
          "output_type": "stream",
          "name": "stderr",
          "text": [
            "313it [01:09,  4.50it/s]\n"
          ]
        },
        {
          "output_type": "stream",
          "name": "stdout",
          "text": [
            "epoch: 13\n",
            "epoch_loss: -0.8186217938137076\n",
            "val_blue: 0.28815301460389353\n"
          ]
        },
        {
          "output_type": "stream",
          "name": "stderr",
          "text": [
            "313it [01:10,  4.46it/s]\n"
          ]
        },
        {
          "output_type": "stream",
          "name": "stdout",
          "text": [
            "epoch: 14\n",
            "epoch_loss: -0.814146011248945\n",
            "val_blue: 0.29019810231120724\n"
          ]
        },
        {
          "output_type": "stream",
          "name": "stderr",
          "text": [
            "313it [01:09,  4.52it/s]\n"
          ]
        },
        {
          "output_type": "stream",
          "name": "stdout",
          "text": [
            "epoch: 15\n",
            "epoch_loss: -0.809539877467405\n",
            "val_blue: 0.28958504187619444\n"
          ]
        },
        {
          "output_type": "stream",
          "name": "stderr",
          "text": [
            "313it [01:09,  4.49it/s]\n"
          ]
        },
        {
          "output_type": "stream",
          "name": "stdout",
          "text": [
            "epoch: 16\n",
            "epoch_loss: -0.8059922692314662\n",
            "val_blue: 0.28841289086236727\n"
          ]
        },
        {
          "output_type": "stream",
          "name": "stderr",
          "text": [
            "313it [01:10,  4.44it/s]\n"
          ]
        },
        {
          "output_type": "stream",
          "name": "stdout",
          "text": [
            "epoch: 17\n",
            "epoch_loss: -0.8016273858310654\n",
            "val_blue: 0.2908779350390612\n"
          ]
        },
        {
          "output_type": "stream",
          "name": "stderr",
          "text": [
            "313it [01:09,  4.48it/s]\n"
          ]
        },
        {
          "output_type": "stream",
          "name": "stdout",
          "text": [
            "epoch: 18\n",
            "epoch_loss: -0.7983915696820432\n",
            "val_blue: 0.29270936730061897\n"
          ]
        },
        {
          "output_type": "stream",
          "name": "stderr",
          "text": [
            "313it [01:10,  4.47it/s]\n"
          ]
        },
        {
          "output_type": "stream",
          "name": "stdout",
          "text": [
            "epoch: 19\n",
            "epoch_loss: -0.7950520233676647\n",
            "val_blue: 0.29214065553254326\n"
          ]
        },
        {
          "output_type": "stream",
          "name": "stderr",
          "text": [
            "313it [01:09,  4.48it/s]\n"
          ]
        },
        {
          "output_type": "stream",
          "name": "stdout",
          "text": [
            "epoch: 20\n",
            "epoch_loss: -0.7929394339796036\n",
            "val_blue: 0.2918631586818155\n"
          ]
        },
        {
          "output_type": "stream",
          "name": "stderr",
          "text": [
            "313it [01:09,  4.49it/s]\n"
          ]
        },
        {
          "output_type": "stream",
          "name": "stdout",
          "text": [
            "epoch: 21\n",
            "epoch_loss: -0.7899952546506471\n",
            "val_blue: 0.2906203033018896\n"
          ]
        },
        {
          "output_type": "stream",
          "name": "stderr",
          "text": [
            "313it [01:10,  4.45it/s]\n"
          ]
        },
        {
          "output_type": "stream",
          "name": "stdout",
          "text": [
            "epoch: 22\n",
            "epoch_loss: -0.7862169335870912\n",
            "val_blue: 0.2913670344187464\n"
          ]
        },
        {
          "output_type": "stream",
          "name": "stderr",
          "text": [
            "313it [01:09,  4.49it/s]\n"
          ]
        },
        {
          "output_type": "stream",
          "name": "stdout",
          "text": [
            "epoch: 23\n",
            "epoch_loss: -0.7830905769242488\n",
            "val_blue: 0.2920497443818298\n"
          ]
        },
        {
          "output_type": "stream",
          "name": "stderr",
          "text": [
            "313it [01:09,  4.49it/s]\n"
          ]
        },
        {
          "output_type": "stream",
          "name": "stdout",
          "text": [
            "epoch: 24\n",
            "epoch_loss: -0.779817864889154\n",
            "val_blue: 0.2901379759068582\n"
          ]
        },
        {
          "output_type": "stream",
          "name": "stderr",
          "text": [
            "313it [01:10,  4.44it/s]\n"
          ]
        },
        {
          "output_type": "stream",
          "name": "stdout",
          "text": [
            "epoch: 25\n",
            "epoch_loss: -0.776636948888221\n",
            "val_blue: 0.2893755163929295\n"
          ]
        },
        {
          "output_type": "stream",
          "name": "stderr",
          "text": [
            "313it [01:09,  4.49it/s]\n"
          ]
        },
        {
          "output_type": "stream",
          "name": "stdout",
          "text": [
            "epoch: 26\n",
            "epoch_loss: -0.7735681460885773\n",
            "val_blue: 0.29117333810150237\n"
          ]
        },
        {
          "output_type": "stream",
          "name": "stderr",
          "text": [
            "313it [01:09,  4.49it/s]\n"
          ]
        },
        {
          "output_type": "stream",
          "name": "stdout",
          "text": [
            "epoch: 27\n",
            "epoch_loss: -0.7710590946149304\n",
            "val_blue: 0.2916100311318573\n"
          ]
        },
        {
          "output_type": "stream",
          "name": "stderr",
          "text": [
            "313it [01:10,  4.45it/s]\n"
          ]
        },
        {
          "output_type": "stream",
          "name": "stdout",
          "text": [
            "epoch: 28\n",
            "epoch_loss: -0.7681350404731342\n",
            "val_blue: 0.29124044012525396\n"
          ]
        },
        {
          "output_type": "stream",
          "name": "stderr",
          "text": [
            "313it [01:09,  4.50it/s]\n"
          ]
        },
        {
          "output_type": "stream",
          "name": "stdout",
          "text": [
            "epoch: 29\n",
            "epoch_loss: -0.7657898092993533\n",
            "val_blue: 0.29365940979785693\n"
          ]
        },
        {
          "output_type": "stream",
          "name": "stderr",
          "text": [
            "313it [01:09,  4.47it/s]\n"
          ]
        },
        {
          "output_type": "stream",
          "name": "stdout",
          "text": [
            "epoch: 30\n",
            "epoch_loss: -0.7632659565391312\n",
            "val_blue: 0.2922946776384199\n"
          ]
        },
        {
          "output_type": "stream",
          "name": "stderr",
          "text": [
            "313it [01:09,  4.50it/s]\n"
          ]
        },
        {
          "output_type": "stream",
          "name": "stdout",
          "text": [
            "epoch: 31\n",
            "epoch_loss: -0.7601680597528434\n",
            "val_blue: 0.29052775208056386\n"
          ]
        },
        {
          "output_type": "stream",
          "name": "stderr",
          "text": [
            "313it [01:09,  4.49it/s]\n"
          ]
        },
        {
          "output_type": "stream",
          "name": "stdout",
          "text": [
            "epoch: 32\n",
            "epoch_loss: -0.757768323497304\n",
            "val_blue: 0.2903263698432181\n"
          ]
        },
        {
          "output_type": "stream",
          "name": "stderr",
          "text": [
            "313it [01:10,  4.47it/s]\n"
          ]
        },
        {
          "output_type": "stream",
          "name": "stdout",
          "text": [
            "epoch: 33\n",
            "epoch_loss: -0.754938719805706\n",
            "val_blue: 0.291600883142227\n"
          ]
        },
        {
          "output_type": "stream",
          "name": "stderr",
          "text": [
            "313it [01:08,  4.54it/s]\n"
          ]
        },
        {
          "output_type": "stream",
          "name": "stdout",
          "text": [
            "epoch: 34\n",
            "epoch_loss: -0.7519083023588171\n",
            "val_blue: 0.2936314395406005\n"
          ]
        },
        {
          "output_type": "stream",
          "name": "stderr",
          "text": [
            "313it [01:09,  4.50it/s]\n"
          ]
        },
        {
          "output_type": "stream",
          "name": "stdout",
          "text": [
            "epoch: 35\n",
            "epoch_loss: -0.7492561708668952\n",
            "val_blue: 0.2923952552447235\n"
          ]
        },
        {
          "output_type": "stream",
          "name": "stderr",
          "text": [
            "313it [01:10,  4.47it/s]\n"
          ]
        },
        {
          "output_type": "stream",
          "name": "stdout",
          "text": [
            "epoch: 36\n",
            "epoch_loss: -0.7466903074967224\n",
            "val_blue: 0.29357303239507326\n"
          ]
        },
        {
          "output_type": "stream",
          "name": "stderr",
          "text": [
            "313it [01:09,  4.49it/s]\n"
          ]
        },
        {
          "output_type": "stream",
          "name": "stdout",
          "text": [
            "epoch: 37\n",
            "epoch_loss: -0.7446591768314182\n",
            "val_blue: 0.29613692967777705\n"
          ]
        },
        {
          "output_type": "stream",
          "name": "stderr",
          "text": [
            "313it [01:09,  4.50it/s]\n"
          ]
        },
        {
          "output_type": "stream",
          "name": "stdout",
          "text": [
            "epoch: 38\n",
            "epoch_loss: -0.7427033175472996\n",
            "val_blue: 0.2928799002138882\n"
          ]
        },
        {
          "output_type": "stream",
          "name": "stderr",
          "text": [
            "313it [01:10,  4.43it/s]\n"
          ]
        },
        {
          "output_type": "stream",
          "name": "stdout",
          "text": [
            "epoch: 39\n",
            "epoch_loss: -0.7409578106404779\n",
            "val_blue: 0.29431317761759196\n"
          ]
        },
        {
          "output_type": "stream",
          "name": "stderr",
          "text": [
            "313it [01:09,  4.50it/s]\n"
          ]
        },
        {
          "output_type": "stream",
          "name": "stdout",
          "text": [
            "epoch: 40\n",
            "epoch_loss: -0.7395742909380013\n",
            "val_blue: 0.29187308141703644\n"
          ]
        },
        {
          "output_type": "stream",
          "name": "stderr",
          "text": [
            "313it [01:09,  4.48it/s]\n"
          ]
        },
        {
          "output_type": "stream",
          "name": "stdout",
          "text": [
            "epoch: 41\n",
            "epoch_loss: -0.7376985513688349\n",
            "val_blue: 0.291636030650713\n"
          ]
        },
        {
          "output_type": "stream",
          "name": "stderr",
          "text": [
            "313it [01:09,  4.51it/s]\n"
          ]
        },
        {
          "output_type": "stream",
          "name": "stdout",
          "text": [
            "epoch: 42\n",
            "epoch_loss: -0.7353890086065759\n",
            "val_blue: 0.29098955438248336\n"
          ]
        },
        {
          "output_type": "stream",
          "name": "stderr",
          "text": [
            "313it [01:09,  4.52it/s]\n"
          ]
        },
        {
          "output_type": "stream",
          "name": "stdout",
          "text": [
            "epoch: 43\n",
            "epoch_loss: -0.7340783280372671\n",
            "val_blue: 0.29326191315539635\n"
          ]
        },
        {
          "output_type": "stream",
          "name": "stderr",
          "text": [
            "313it [01:10,  4.44it/s]\n"
          ]
        },
        {
          "output_type": "stream",
          "name": "stdout",
          "text": [
            "epoch: 44\n",
            "epoch_loss: -0.7328534088756414\n",
            "val_blue: 0.2933437115121361\n"
          ]
        },
        {
          "output_type": "stream",
          "name": "stderr",
          "text": [
            "313it [01:09,  4.50it/s]\n"
          ]
        },
        {
          "output_type": "stream",
          "name": "stdout",
          "text": [
            "epoch: 45\n",
            "epoch_loss: -0.7314613545345819\n",
            "val_blue: 0.2957521747905877\n"
          ]
        },
        {
          "output_type": "stream",
          "name": "stderr",
          "text": [
            "313it [01:08,  4.54it/s]\n"
          ]
        },
        {
          "output_type": "stream",
          "name": "stdout",
          "text": [
            "epoch: 46\n",
            "epoch_loss: -0.7300245941625269\n",
            "val_blue: 0.2943346850369033\n"
          ]
        },
        {
          "output_type": "stream",
          "name": "stderr",
          "text": [
            "313it [01:10,  4.45it/s]\n"
          ]
        },
        {
          "output_type": "stream",
          "name": "stdout",
          "text": [
            "epoch: 47\n",
            "epoch_loss: -0.7287053289546516\n",
            "val_blue: 0.29282769193359626\n"
          ]
        },
        {
          "output_type": "stream",
          "name": "stderr",
          "text": [
            "313it [01:09,  4.50it/s]\n"
          ]
        },
        {
          "output_type": "stream",
          "name": "stdout",
          "text": [
            "epoch: 48\n",
            "epoch_loss: -0.7267785355066891\n",
            "val_blue: 0.29358355378152157\n"
          ]
        },
        {
          "output_type": "stream",
          "name": "stderr",
          "text": [
            "313it [01:09,  4.50it/s]\n"
          ]
        },
        {
          "output_type": "stream",
          "name": "stdout",
          "text": [
            "epoch: 49\n",
            "epoch_loss: -0.7251352954910586\n",
            "val_blue: 0.29307971618560896\n"
          ]
        }
      ],
      "source": [
        "base_blue = bleu_score_pretrained #bleu_score, полученный при обучении с учителем\n",
        "\n",
        "N_EPOCHS = 50\n",
        "BATCH_SIZE = 64\n",
        "epoch_loss = []\n",
        "\n",
        "for epoch in range(N_EPOCHS):\n",
        "    for i, batch in tqdm.tqdm(enumerate(train_iterator)):\n",
        "        model.train()\n",
        "        src = batch.src\n",
        "        trg = batch.trg\n",
        "\n",
        "        loss, ent = scst_objective_on_batch(model, src, trg, TRG, device)\n",
        "        epoch_loss.append(loss.item())\n",
        "        \n",
        "        loss.backward()\n",
        "        opt.step()\n",
        "        opt.zero_grad()\n",
        "\n",
        "    BLEU_score = calculate_bleu_transformer(valid_data, SRC, TRG, model, device, greedy=True)\n",
        "\n",
        "    if BLEU_score > base_blue:\n",
        "        torch.save(model.state_dict(), '/content/drive/MyDrive/NLP_IRA/transformer_model_policy_grad.pt')\n",
        "        base_blue = BLEU_score\n",
        "\n",
        "\n",
        "\n",
        "    print('epoch: {}'.format(epoch))\n",
        "    print('epoch_loss: {}'.format(np.array(epoch_loss).mean()))\n",
        "    print('val_blue: {}'.format(BLEU_score))"
      ]
    },
    {
      "cell_type": "code",
      "source": [
        "model.load_state_dict(torch.load('/content/drive/MyDrive/NLP_IRA/transformer_model_policy_grad.pt'))"
      ],
      "metadata": {
        "colab": {
          "base_uri": "https://localhost:8080/"
        },
        "id": "hvOmTBpJGJqu",
        "outputId": "d8745457-506e-4ad9-9448-bdb96e8ac98c"
      },
      "execution_count": null,
      "outputs": [
        {
          "output_type": "execute_result",
          "data": {
            "text/plain": [
              "<All keys matched successfully>"
            ]
          },
          "metadata": {},
          "execution_count": 30
        }
      ]
    },
    {
      "cell_type": "code",
      "execution_count": null,
      "metadata": {
        "colab": {
          "base_uri": "https://localhost:8080/"
        },
        "id": "F_FIgkW_cChy",
        "outputId": "1aaebd4c-96ba-416f-dd46-56472bd4a115"
      },
      "outputs": [
        {
          "output_type": "stream",
          "name": "stdout",
          "text": [
            "BLEU score = 29.34\n"
          ]
        }
      ],
      "source": [
        "BLEU_score = calculate_bleu_transformer(test_data, SRC, TRG, model, device, greedy=True)\n",
        "\n",
        "print(f'BLEU score = {BLEU_score*100:.2f}')"
      ]
    },
    {
      "cell_type": "markdown",
      "source": [
        "Видим, что BLUE увеличился на 0.82 за счет применения self-critical policy gradient."
      ],
      "metadata": {
        "id": "0AD8YVEUNNbP"
      }
    },
    {
      "cell_type": "markdown",
      "source": [
        "Примеры переводов:"
      ],
      "metadata": {
        "id": "Y_kIkx4gNhkI"
      }
    },
    {
      "cell_type": "code",
      "source": [
        "for example_idx in range(10):\n",
        "\n",
        "  src = vars(train_data.examples[example_idx])['src']\n",
        "  trg = vars(train_data.examples[example_idx])['trg']\n",
        "  pred_trg, _ = translate_sentence_transformer(src, SRC, TRG, model, device, greedy=True)\n",
        "\n",
        "  print('Text: {}'.format(' '.join(src)))\n",
        "  print('Original translation: {}'.format(' '.join(trg)))\n",
        "  print('Generated translation: {}'.format(' '.join(pred_trg[:-1])))\n",
        "  print()"
      ],
      "metadata": {
        "colab": {
          "base_uri": "https://localhost:8080/"
        },
        "id": "aWk4l-653fxz",
        "outputId": "9a8136ba-d8c1-4443-d935-1bbdbe35a1f2"
      },
      "execution_count": null,
      "outputs": [
        {
          "output_type": "stream",
          "name": "stdout",
          "text": [
            "Text: в 1 , 9 км находится свято - троицкий кафедральный собор .\n",
            "Original translation: the apartment is 1 . 9 km from trinity cathedral .\n",
            "Generated translation: the apartment is 1 . 9 km from trinity cathedral .\n",
            "\n",
            "Text: на территории отеля обустроена бесплатная частная парковка и работает прокат велосипедов .\n",
            "Original translation: free private parking and bike rental are available on site .\n",
            "Generated translation: free private parking is available on site and bike hire is available at the hotel .\n",
            "\n",
            "Text: дом для отпуска degnevangen blåvand iv с крытым бассейном площадью 24 квадратных метра находится в поселке блованн , в 200 метрах от магазина и ресторана .\n",
            "Original translation: offering a 24 square meters indoor swimming pool , holiday home degnevangen blåvand iv is located in blåvand , 200 m from the shop and restaurant .\n",
            "Generated translation: holiday home <unk> blåvand iv is located in blåvand , 200 metres from the shop , and a restaurant .\n",
            "\n",
            "Text: гости могут приготовить себе еду на кухне с плитой , микроволновой печью и холодильником .\n",
            "Original translation: guests can prepare their meals in the kitchen with a stove , microwave and fridge .\n",
            "Generated translation: guests can prepare their own meals in the kitchen , equipped with a stove , microwave and fridge .\n",
            "\n",
            "Text: гости могут отдохнуть на террасе и полюбоваться живописными пейзажами , а также заняться верховой ездой , отправиться на пешую прогулку или на рыбалку .\n",
            "Original translation: guests can relax on the terrace and enjoy the scenic landscapes . activities range from horse riding , hiking and fishing .\n",
            "Generated translation: guests can relax on the terrace and enjoy scenic landscapes . horse riding facilities are available on the terrace .\n",
            "\n",
            "Text: гости также могут посещать круговую смотровую площадку lookout в ресторане la vista .\n",
            "Original translation: guests also get access to the 360o panoramic lookout in restaurant \" la vista \".\n",
            "Generated translation: guests also have access to a restaurant at la vista .\n",
            "\n",
            "Text: пешая прогулка до старинного фермерского рынка лос - анджелеса и торгового центра the grove занимает несколько минут .\n",
            "Original translation: the property is within walking distance to the historic la farmer ' s market and the grove shopping center .\n",
            "Generated translation: los angeles market and the historic centre are a short walk away .\n",
            "\n",
            "Text: предоставляется трансфер от / до аэропорта .\n",
            "Original translation: an airport shuttle is available .\n",
            "Generated translation: airport shuttle is available .\n",
            "\n",
            "Text: расстояние до флоренции составляет 15 км . поездка до ареццо занимает примерно 1 час .\n",
            "Original translation: florence is 15 km from the property , while arezzo can be reached in approximately a 1 - hour drive .\n",
            "Generated translation: florence is 15 km away .\n",
            "\n",
            "Text: на прилегающей территории обустроена бесплатная частная парковка .\n",
            "Original translation: free private parking is available on site .\n",
            "Generated translation: free private parking is available on site .\n",
            "\n"
          ]
        }
      ]
    }
  ],
  "metadata": {
    "accelerator": "GPU",
    "anaconda-cloud": {},
    "colab": {
      "collapsed_sections": [],
      "machine_shape": "hm",
      "name": "lab02_Neural_Machine_Translation_RL.ipynb",
      "provenance": []
    },
    "gpuClass": "standard",
    "kernelspec": {
      "display_name": "Python 3",
      "language": "python",
      "name": "python3"
    },
    "language_info": {
      "codemirror_mode": {
        "name": "ipython",
        "version": 3
      },
      "file_extension": ".py",
      "mimetype": "text/x-python",
      "name": "python",
      "nbconvert_exporter": "python",
      "pygments_lexer": "ipython3",
      "version": "3.8.5"
    }
  },
  "nbformat": 4,
  "nbformat_minor": 0
}